{
  "cells": [
    {
      "cell_type": "markdown",
      "id": "acd9e95b",
      "metadata": {
        "id": "acd9e95b"
      },
      "source": [
        "# Pandas"
      ]
    },
    {
      "cell_type": "markdown",
      "id": "13051d74",
      "metadata": {
        "id": "13051d74"
      },
      "source": [
        "## https://pandas.pydata.org/"
      ]
    },
    {
      "cell_type": "markdown",
      "id": "682f4aa0",
      "metadata": {
        "id": "682f4aa0"
      },
      "source": [
        "# Pandas is a fast, powerful, flexible and easy to use open source data analysis and manipulation tool, built on top of the Python programming language."
      ]
    },
    {
      "cell_type": "markdown",
      "id": "8a19515c",
      "metadata": {
        "id": "8a19515c"
      },
      "source": [
        "- Series [1D]\n",
        "- DataFrame [2D]\n",
        "- Panel [df in df]"
      ]
    },
    {
      "cell_type": "code",
      "execution_count": 1,
      "id": "74e4a286",
      "metadata": {
        "id": "74e4a286"
      },
      "outputs": [],
      "source": [
        "import pandas as pd"
      ]
    },
    {
      "cell_type": "code",
      "execution_count": 2,
      "id": "c4b7a071",
      "metadata": {
        "colab": {
          "base_uri": "https://localhost:8080/",
          "height": 35
        },
        "id": "c4b7a071",
        "outputId": "789bb88f-8b62-47bb-d3b2-7e3f833f79ff"
      },
      "outputs": [
        {
          "output_type": "execute_result",
          "data": {
            "text/plain": [
              "'1.5.3'"
            ],
            "application/vnd.google.colaboratory.intrinsic+json": {
              "type": "string"
            }
          },
          "metadata": {},
          "execution_count": 2
        }
      ],
      "source": [
        "# check version\n",
        "pd.__version__"
      ]
    },
    {
      "cell_type": "markdown",
      "id": "2c285939",
      "metadata": {
        "id": "2c285939"
      },
      "source": [
        "## pd.Series(data,index,dtype)"
      ]
    },
    {
      "cell_type": "code",
      "execution_count": 3,
      "id": "66a7246b",
      "metadata": {
        "colab": {
          "base_uri": "https://localhost:8080/"
        },
        "id": "66a7246b",
        "outputId": "5eaec2b7-4ec9-43b5-daf1-4e280121b508"
      },
      "outputs": [
        {
          "output_type": "stream",
          "name": "stderr",
          "text": [
            "<ipython-input-3-0accf45e20f7>:2: FutureWarning: The default dtype for empty Series will be 'object' instead of 'float64' in a future version. Specify a dtype explicitly to silence this warning.\n",
            "  pd.Series()\n"
          ]
        },
        {
          "output_type": "execute_result",
          "data": {
            "text/plain": [
              "Series([], dtype: float64)"
            ]
          },
          "metadata": {},
          "execution_count": 3
        }
      ],
      "source": [
        "# empty Series\n",
        "pd.Series()"
      ]
    },
    {
      "cell_type": "code",
      "source": [
        "pd.Series?"
      ],
      "metadata": {
        "id": "JXa3g-j_MB44"
      },
      "id": "JXa3g-j_MB44",
      "execution_count": 4,
      "outputs": []
    },
    {
      "cell_type": "code",
      "source": [
        "pd.Series(data=None,index=None,dtype=None)"
      ],
      "metadata": {
        "colab": {
          "base_uri": "https://localhost:8080/"
        },
        "id": "KG7nhpVZMWxQ",
        "outputId": "8f9f19af-a956-47e5-e749-8934c4d4ce0e"
      },
      "id": "KG7nhpVZMWxQ",
      "execution_count": 5,
      "outputs": [
        {
          "output_type": "stream",
          "name": "stderr",
          "text": [
            "<ipython-input-5-67d9aa2a9015>:1: FutureWarning: The default dtype for empty Series will be 'object' instead of 'float64' in a future version. Specify a dtype explicitly to silence this warning.\n",
            "  pd.Series(data=None,index=None,dtype=None)\n"
          ]
        },
        {
          "output_type": "execute_result",
          "data": {
            "text/plain": [
              "Series([], dtype: float64)"
            ]
          },
          "metadata": {},
          "execution_count": 5
        }
      ]
    },
    {
      "cell_type": "code",
      "execution_count": 6,
      "id": "5ddde95b",
      "metadata": {
        "colab": {
          "base_uri": "https://localhost:8080/"
        },
        "id": "5ddde95b",
        "outputId": "051d4234-2561-481d-ad56-e55680087000"
      },
      "outputs": [
        {
          "output_type": "execute_result",
          "data": {
            "text/plain": [
              "Series([], dtype: object)"
            ]
          },
          "metadata": {},
          "execution_count": 6
        }
      ],
      "source": [
        "# The default dtype for empty Series will be 'object'\n",
        "pd.Series(dtype=object)"
      ]
    },
    {
      "cell_type": "markdown",
      "id": "b0def8de",
      "metadata": {
        "id": "b0def8de"
      },
      "source": [
        "# Features of a Series\n",
        "- Its Mutable in nature\n",
        "- Array, indexing, slicing default\n",
        "- 1 Dimensional data structure\n",
        "- we can manipulate Series\n",
        "- duplicate data and index is allowed"
      ]
    },
    {
      "cell_type": "code",
      "execution_count": 7,
      "id": "9784fcfe",
      "metadata": {
        "colab": {
          "base_uri": "https://localhost:8080/"
        },
        "id": "9784fcfe",
        "outputId": "64370d5a-9303-4d19-ff6c-20cc5c973031"
      },
      "outputs": [
        {
          "output_type": "execute_result",
          "data": {
            "text/plain": [
              "0        10\n",
              "1     23.44\n",
              "2    python\n",
              "3     56000\n",
              "dtype: object"
            ]
          },
          "metadata": {},
          "execution_count": 7
        }
      ],
      "source": [
        "# Deal with data\n",
        "k = [10,23.44,'python',56000]\n",
        "s = pd.Series(k)\n",
        "s"
      ]
    },
    {
      "cell_type": "raw",
      "id": "5e3df9b9",
      "metadata": {
        "id": "5e3df9b9"
      },
      "source": [
        "In pandas object datatype means either u have str data or u have hetro. data"
      ]
    },
    {
      "cell_type": "code",
      "execution_count": 8,
      "id": "20c885a9",
      "metadata": {
        "colab": {
          "base_uri": "https://localhost:8080/"
        },
        "id": "20c885a9",
        "outputId": "0a9c5615-88e6-4a87-80e9-d2fa302a1b1a"
      },
      "outputs": [
        {
          "output_type": "execute_result",
          "data": {
            "text/plain": [
              "0      1\n",
              "1      2\n",
              "2    3.0\n",
              "dtype: object"
            ]
          },
          "metadata": {},
          "execution_count": 8
        }
      ],
      "source": [
        "# int--> float-->complex--> str/object\n",
        "pd.Series([1,'2',3.])"
      ]
    },
    {
      "cell_type": "code",
      "execution_count": 9,
      "id": "b3869370",
      "metadata": {
        "colab": {
          "base_uri": "https://localhost:8080/"
        },
        "id": "b3869370",
        "outputId": "40ee787b-b620-4721-8e16-d5924f7cdb81"
      },
      "outputs": [
        {
          "output_type": "execute_result",
          "data": {
            "text/plain": [
              "0    A\n",
              "1    B\n",
              "2    C\n",
              "dtype: object"
            ]
          },
          "metadata": {},
          "execution_count": 9
        }
      ],
      "source": [
        "# series with str values\n",
        "pd.Series(['A','B','C'])"
      ]
    },
    {
      "cell_type": "code",
      "source": [
        "pd.Series([1,2,3])"
      ],
      "metadata": {
        "colab": {
          "base_uri": "https://localhost:8080/"
        },
        "id": "OizMAcIoIQFA",
        "outputId": "a85e9427-a939-4b9f-c2c4-e6d8e16fa45a"
      },
      "id": "OizMAcIoIQFA",
      "execution_count": 13,
      "outputs": [
        {
          "output_type": "execute_result",
          "data": {
            "text/plain": [
              "0    1\n",
              "1    2\n",
              "2    3\n",
              "dtype: int64"
            ]
          },
          "metadata": {},
          "execution_count": 13
        }
      ]
    },
    {
      "cell_type": "code",
      "source": [
        "pd.Series([1,2,3,4.]) #upcasting"
      ],
      "metadata": {
        "colab": {
          "base_uri": "https://localhost:8080/"
        },
        "id": "4p_3IVK2HtMD",
        "outputId": "c650c5ca-4f13-4ea4-ef19-ce8792e8ec96"
      },
      "id": "4p_3IVK2HtMD",
      "execution_count": 11,
      "outputs": [
        {
          "output_type": "execute_result",
          "data": {
            "text/plain": [
              "0    1.0\n",
              "1    2.0\n",
              "2    3.0\n",
              "3    4.0\n",
              "dtype: float64"
            ]
          },
          "metadata": {},
          "execution_count": 11
        }
      ]
    },
    {
      "cell_type": "code",
      "source": [
        "pd.Series([1,2,3,4,5j])"
      ],
      "metadata": {
        "colab": {
          "base_uri": "https://localhost:8080/"
        },
        "id": "cGfx3HW6ICw7",
        "outputId": "3e06364e-d6e5-4c80-f933-a7fec321adae"
      },
      "id": "cGfx3HW6ICw7",
      "execution_count": 12,
      "outputs": [
        {
          "output_type": "execute_result",
          "data": {
            "text/plain": [
              "0    1.0+0.0j\n",
              "1    2.0+0.0j\n",
              "2    3.0+0.0j\n",
              "3    4.0+0.0j\n",
              "4    0.0+5.0j\n",
              "dtype: complex128"
            ]
          },
          "metadata": {},
          "execution_count": 12
        }
      ]
    },
    {
      "cell_type": "code",
      "execution_count": 14,
      "id": "17f7d2b0",
      "metadata": {
        "colab": {
          "base_uri": "https://localhost:8080/"
        },
        "id": "17f7d2b0",
        "outputId": "5db73a81-eed0-43a1-caed-e53c32d56004"
      },
      "outputs": [
        {
          "output_type": "execute_result",
          "data": {
            "text/plain": [
              "152"
            ]
          },
          "metadata": {},
          "execution_count": 14
        }
      ],
      "source": [
        "a = pd.Series([1,2,3])\n",
        "a.__sizeof__()"
      ]
    },
    {
      "cell_type": "code",
      "execution_count": 15,
      "id": "788bac62",
      "metadata": {
        "colab": {
          "base_uri": "https://localhost:8080/"
        },
        "id": "788bac62",
        "outputId": "385e8ec6-1fbb-442c-a00a-257cea0337e0"
      },
      "outputs": [
        {
          "output_type": "execute_result",
          "data": {
            "text/plain": [
              "302"
            ]
          },
          "metadata": {},
          "execution_count": 15
        }
      ],
      "source": [
        "b = pd.Series(['1','2','3'])\n",
        "b.__sizeof__()"
      ]
    },
    {
      "cell_type": "code",
      "execution_count": 16,
      "id": "29c67fe0",
      "metadata": {
        "colab": {
          "base_uri": "https://localhost:8080/"
        },
        "id": "29c67fe0",
        "outputId": "b25c5a60-e42b-4f8f-cf47-e8942ffb9db5"
      },
      "outputs": [
        {
          "output_type": "execute_result",
          "data": {
            "text/plain": [
              "(dtype('int64'), dtype('O'))"
            ]
          },
          "metadata": {},
          "execution_count": 16
        }
      ],
      "source": [
        "a.dtype,b.dtype"
      ]
    },
    {
      "cell_type": "markdown",
      "id": "8200075e",
      "metadata": {
        "id": "8200075e"
      },
      "source": [
        "### Check the properties of Series"
      ]
    },
    {
      "cell_type": "code",
      "execution_count": 17,
      "id": "60386ad1",
      "metadata": {
        "colab": {
          "base_uri": "https://localhost:8080/"
        },
        "id": "60386ad1",
        "outputId": "48cb590c-c06b-4d5a-f2ac-fa30fd0d1ce0"
      },
      "outputs": [
        {
          "output_type": "execute_result",
          "data": {
            "text/plain": [
              "0        10\n",
              "1     23.44\n",
              "2    python\n",
              "3     56000\n",
              "dtype: object"
            ]
          },
          "metadata": {},
          "execution_count": 17
        }
      ],
      "source": [
        "s"
      ]
    },
    {
      "cell_type": "code",
      "execution_count": 18,
      "id": "6d7615de",
      "metadata": {
        "colab": {
          "base_uri": "https://localhost:8080/"
        },
        "id": "6d7615de",
        "outputId": "fb0a60fd-91f4-46b8-e853-06bbb9b753a4"
      },
      "outputs": [
        {
          "output_type": "execute_result",
          "data": {
            "text/plain": [
              "1"
            ]
          },
          "metadata": {},
          "execution_count": 18
        }
      ],
      "source": [
        "#check dimension\n",
        "s.ndim"
      ]
    },
    {
      "cell_type": "code",
      "execution_count": 19,
      "id": "83acc494",
      "metadata": {
        "colab": {
          "base_uri": "https://localhost:8080/"
        },
        "id": "83acc494",
        "outputId": "aae7ac6a-b7d6-4c9e-f522-6fe2684d4754"
      },
      "outputs": [
        {
          "output_type": "execute_result",
          "data": {
            "text/plain": [
              "4"
            ]
          },
          "metadata": {},
          "execution_count": 19
        }
      ],
      "source": [
        "#check total no. of elements(rows)\n",
        "s.size"
      ]
    },
    {
      "cell_type": "code",
      "execution_count": 20,
      "id": "0471a59b",
      "metadata": {
        "colab": {
          "base_uri": "https://localhost:8080/"
        },
        "id": "0471a59b",
        "outputId": "d5f5df73-01b1-41e9-8621-9a6fc1777bd0"
      },
      "outputs": [
        {
          "output_type": "execute_result",
          "data": {
            "text/plain": [
              "4"
            ]
          },
          "metadata": {},
          "execution_count": 20
        }
      ],
      "source": [
        "len(s)"
      ]
    },
    {
      "cell_type": "code",
      "execution_count": 22,
      "id": "0a592126",
      "metadata": {
        "colab": {
          "base_uri": "https://localhost:8080/"
        },
        "id": "0a592126",
        "outputId": "22651aad-0ed0-434d-808d-29236b5a81d7"
      },
      "outputs": [
        {
          "output_type": "execute_result",
          "data": {
            "text/plain": [
              "4"
            ]
          },
          "metadata": {},
          "execution_count": 22
        }
      ],
      "source": [
        "s.count()"
      ]
    },
    {
      "cell_type": "code",
      "execution_count": 23,
      "id": "6f70e5fb",
      "metadata": {
        "colab": {
          "base_uri": "https://localhost:8080/"
        },
        "id": "6f70e5fb",
        "outputId": "c9f87628-776d-4bbb-82dc-80df93859056"
      },
      "outputs": [
        {
          "output_type": "execute_result",
          "data": {
            "text/plain": [
              "0    NaN\n",
              "1    1.0\n",
              "2    2.0\n",
              "3    NaN\n",
              "dtype: float64"
            ]
          },
          "metadata": {},
          "execution_count": 23
        }
      ],
      "source": [
        "import numpy as np\n",
        "t = pd.Series([np.nan,1,2,np.nan])\n",
        "t\n",
        "#NaN: Not a Number"
      ]
    },
    {
      "cell_type": "code",
      "execution_count": 24,
      "id": "075febbc",
      "metadata": {
        "colab": {
          "base_uri": "https://localhost:8080/"
        },
        "id": "075febbc",
        "outputId": "d5afc05c-c9dc-47fc-995f-49a498679e57"
      },
      "outputs": [
        {
          "output_type": "execute_result",
          "data": {
            "text/plain": [
              "2"
            ]
          },
          "metadata": {},
          "execution_count": 24
        }
      ],
      "source": [
        "t.count()\n",
        "# Return number of non-NA/null observations in the Series."
      ]
    },
    {
      "cell_type": "code",
      "source": [
        "t.size # it check for all values NaN as well"
      ],
      "metadata": {
        "colab": {
          "base_uri": "https://localhost:8080/"
        },
        "id": "POq3q3DSQgGE",
        "outputId": "e13341d9-0ee4-40c8-f322-fb3ebff81e58"
      },
      "id": "POq3q3DSQgGE",
      "execution_count": 25,
      "outputs": [
        {
          "output_type": "execute_result",
          "data": {
            "text/plain": [
              "4"
            ]
          },
          "metadata": {},
          "execution_count": 25
        }
      ]
    },
    {
      "cell_type": "code",
      "execution_count": 26,
      "id": "90a723cd",
      "metadata": {
        "colab": {
          "base_uri": "https://localhost:8080/"
        },
        "id": "90a723cd",
        "outputId": "4e251680-8b11-4c26-d755-12a8d895f896"
      },
      "outputs": [
        {
          "output_type": "execute_result",
          "data": {
            "text/plain": [
              "(4,)"
            ]
          },
          "metadata": {},
          "execution_count": 26
        }
      ],
      "source": [
        "# check number of rows and columns\n",
        "# as Series is 1D so we dont have columns\n",
        "s.shape"
      ]
    },
    {
      "cell_type": "code",
      "execution_count": 27,
      "id": "fc8ec63e",
      "metadata": {
        "colab": {
          "base_uri": "https://localhost:8080/"
        },
        "id": "fc8ec63e",
        "outputId": "bf30ca03-ff94-4f6d-ae80-53f6b286d491"
      },
      "outputs": [
        {
          "output_type": "execute_result",
          "data": {
            "text/plain": [
              "dtype('O')"
            ]
          },
          "metadata": {},
          "execution_count": 27
        }
      ],
      "source": [
        "# check data type\n",
        "s.dtype"
      ]
    },
    {
      "cell_type": "code",
      "execution_count": 28,
      "id": "5a9fcda1",
      "metadata": {
        "colab": {
          "base_uri": "https://localhost:8080/"
        },
        "id": "5a9fcda1",
        "outputId": "5d5b9853-f23e-44b3-a44b-6a4e641b5f84"
      },
      "outputs": [
        {
          "output_type": "execute_result",
          "data": {
            "text/plain": [
              "160"
            ]
          },
          "metadata": {},
          "execution_count": 28
        }
      ],
      "source": [
        "# check memory usage in bytes\n",
        "s.memory_usage()"
      ]
    },
    {
      "cell_type": "code",
      "source": [
        "s"
      ],
      "metadata": {
        "colab": {
          "base_uri": "https://localhost:8080/"
        },
        "id": "Wmn66bQMJ-VT",
        "outputId": "320b5edd-25c9-420e-a4db-c6b13fec1beb"
      },
      "id": "Wmn66bQMJ-VT",
      "execution_count": 29,
      "outputs": [
        {
          "output_type": "execute_result",
          "data": {
            "text/plain": [
              "0        10\n",
              "1     23.44\n",
              "2    python\n",
              "3     56000\n",
              "dtype: object"
            ]
          },
          "metadata": {},
          "execution_count": 29
        }
      ]
    },
    {
      "cell_type": "code",
      "execution_count": 33,
      "id": "256e9ca1",
      "metadata": {
        "colab": {
          "base_uri": "https://localhost:8080/"
        },
        "id": "256e9ca1",
        "outputId": "e52cf4a8-e1e8-4c3f-d345-1e4355b4b9b5"
      },
      "outputs": [
        {
          "output_type": "execute_result",
          "data": {
            "text/plain": [
              "array([10, 23.44, 'python', 56000], dtype=object)"
            ]
          },
          "metadata": {},
          "execution_count": 33
        }
      ],
      "source": [
        "# fetch data only\n",
        "s.values"
      ]
    },
    {
      "cell_type": "code",
      "execution_count": 31,
      "id": "cbb5c1cb",
      "metadata": {
        "colab": {
          "base_uri": "https://localhost:8080/"
        },
        "id": "cbb5c1cb",
        "outputId": "0c4eae94-f06e-469b-a7a0-ffce7d8af2db"
      },
      "outputs": [
        {
          "output_type": "execute_result",
          "data": {
            "text/plain": [
              "RangeIndex(start=0, stop=4, step=1)"
            ]
          },
          "metadata": {},
          "execution_count": 31
        }
      ],
      "source": [
        "# fetch index\n",
        "s.index"
      ]
    },
    {
      "cell_type": "markdown",
      "id": "ad73ccc0",
      "metadata": {
        "id": "ad73ccc0"
      },
      "source": [
        "### Apply some statistical or Mathematical operations"
      ]
    },
    {
      "cell_type": "code",
      "execution_count": 34,
      "id": "ede098d6",
      "metadata": {
        "colab": {
          "base_uri": "https://localhost:8080/"
        },
        "id": "ede098d6",
        "outputId": "6f1dac3e-5988-4ee5-8786-1cdb80dd9d08"
      },
      "outputs": [
        {
          "output_type": "execute_result",
          "data": {
            "text/plain": [
              "0     120\n",
              "1       1\n",
              "2    9000\n",
              "3      22\n",
              "4      18\n",
              "dtype: int64"
            ]
          },
          "metadata": {},
          "execution_count": 34
        }
      ],
      "source": [
        "a = pd.Series([120,1,9000,22,18])\n",
        "a"
      ]
    },
    {
      "cell_type": "code",
      "execution_count": 35,
      "id": "097b4fc6",
      "metadata": {
        "colab": {
          "base_uri": "https://localhost:8080/"
        },
        "id": "097b4fc6",
        "outputId": "a1c6ec5a-0ad9-47f8-b68b-d3b6e7b4cfff"
      },
      "outputs": [
        {
          "output_type": "execute_result",
          "data": {
            "text/plain": [
              "9000"
            ]
          },
          "metadata": {},
          "execution_count": 35
        }
      ],
      "source": [
        "# find out max value\n",
        "a.max()"
      ]
    },
    {
      "cell_type": "code",
      "execution_count": 36,
      "id": "4b53a778",
      "metadata": {
        "colab": {
          "base_uri": "https://localhost:8080/"
        },
        "id": "4b53a778",
        "outputId": "f39e50a9-3be6-4ef6-acb5-9339c98474f2"
      },
      "outputs": [
        {
          "output_type": "execute_result",
          "data": {
            "text/plain": [
              "9000"
            ]
          },
          "metadata": {},
          "execution_count": 36
        }
      ],
      "source": [
        "max(a)"
      ]
    },
    {
      "cell_type": "code",
      "execution_count": 37,
      "id": "f2a0cc8c",
      "metadata": {
        "colab": {
          "base_uri": "https://localhost:8080/"
        },
        "id": "f2a0cc8c",
        "outputId": "0fb075d0-439a-4e3f-d37f-55c9af16aa6a"
      },
      "outputs": [
        {
          "output_type": "execute_result",
          "data": {
            "text/plain": [
              "1"
            ]
          },
          "metadata": {},
          "execution_count": 37
        }
      ],
      "source": [
        "# find out min\n",
        "a.min()"
      ]
    },
    {
      "cell_type": "code",
      "execution_count": 38,
      "id": "abf9a456",
      "metadata": {
        "colab": {
          "base_uri": "https://localhost:8080/"
        },
        "id": "abf9a456",
        "outputId": "e97252cc-2515-4d0a-c361-93e0f0757a53"
      },
      "outputs": [
        {
          "output_type": "execute_result",
          "data": {
            "text/plain": [
              "1832.2"
            ]
          },
          "metadata": {},
          "execution_count": 38
        }
      ],
      "source": [
        "# find out mean/average\n",
        "a.mean()"
      ]
    },
    {
      "cell_type": "code",
      "source": [
        "a"
      ],
      "metadata": {
        "colab": {
          "base_uri": "https://localhost:8080/"
        },
        "id": "XQhB2n3XLLyp",
        "outputId": "c26d0361-5edd-4e87-e4dc-29f25131783e"
      },
      "id": "XQhB2n3XLLyp",
      "execution_count": 39,
      "outputs": [
        {
          "output_type": "execute_result",
          "data": {
            "text/plain": [
              "0     120\n",
              "1       1\n",
              "2    9000\n",
              "3      22\n",
              "4      18\n",
              "dtype: int64"
            ]
          },
          "metadata": {},
          "execution_count": 39
        }
      ]
    },
    {
      "cell_type": "code",
      "execution_count": 40,
      "id": "3d9d9cd3",
      "metadata": {
        "scrolled": true,
        "colab": {
          "base_uri": "https://localhost:8080/"
        },
        "id": "3d9d9cd3",
        "outputId": "7fc1ac4b-d82a-477b-8157-caa4fef34728"
      },
      "outputs": [
        {
          "output_type": "execute_result",
          "data": {
            "text/plain": [
              "22.0"
            ]
          },
          "metadata": {},
          "execution_count": 40
        }
      ],
      "source": [
        "# median\n",
        "#[4,10,2,1,5,7]--> sort records --> [1,2,4,7,10]--> middle value-->4\n",
        "a.median()"
      ]
    },
    {
      "cell_type": "code",
      "execution_count": null,
      "id": "6386367a",
      "metadata": {
        "id": "6386367a"
      },
      "outputs": [],
      "source": [
        "#Q. mean vs median"
      ]
    },
    {
      "cell_type": "code",
      "execution_count": null,
      "id": "0dcbdea8",
      "metadata": {
        "id": "0dcbdea8"
      },
      "outputs": [],
      "source": [
        "a #1 18 22 120 9000"
      ]
    },
    {
      "cell_type": "code",
      "execution_count": null,
      "id": "13f80404",
      "metadata": {
        "id": "13f80404"
      },
      "outputs": [],
      "source": [
        "# Assignment: create a series for 40,2,4,670,7,90,1,20\n",
        "# check all the properties for above Series"
      ]
    },
    {
      "cell_type": "raw",
      "id": "6bbc2a6b",
      "metadata": {
        "id": "6bbc2a6b"
      },
      "source": [
        "# Q. Central Measures of Tendancies:\n",
        "   ##  - mean()--> avg\n",
        "   ##  - median()--> middle value after sort\n",
        "   ##  - mode()--> most frequent object/value"
      ]
    },
    {
      "cell_type": "code",
      "execution_count": 41,
      "id": "15414591",
      "metadata": {
        "colab": {
          "base_uri": "https://localhost:8080/"
        },
        "id": "15414591",
        "outputId": "5932ae3d-a62f-4cd4-93d1-a29ad228c634"
      },
      "outputs": [
        {
          "output_type": "execute_result",
          "data": {
            "text/plain": [
              "0       1\n",
              "1      18\n",
              "2      22\n",
              "3     120\n",
              "4    9000\n",
              "dtype: int64"
            ]
          },
          "metadata": {},
          "execution_count": 41
        }
      ],
      "source": [
        "# mode: most frquent value\n",
        "a.mode()"
      ]
    },
    {
      "cell_type": "code",
      "execution_count": 42,
      "id": "100cdc33",
      "metadata": {
        "colab": {
          "base_uri": "https://localhost:8080/"
        },
        "id": "100cdc33",
        "outputId": "1c67dc51-e9d7-4748-8806-cde1f7ce6ac9"
      },
      "outputs": [
        {
          "output_type": "execute_result",
          "data": {
            "text/plain": [
              "0    100\n",
              "1    230\n",
              "2    450\n",
              "3    100\n",
              "4    100\n",
              "dtype: int64"
            ]
          },
          "metadata": {},
          "execution_count": 42
        }
      ],
      "source": [
        "b = pd.Series([100,230,450,100,100])\n",
        "b"
      ]
    },
    {
      "cell_type": "code",
      "execution_count": 43,
      "id": "6f02728b",
      "metadata": {
        "colab": {
          "base_uri": "https://localhost:8080/"
        },
        "id": "6f02728b",
        "outputId": "d8ac6a91-c29d-4c88-c592-5e8d217eb091"
      },
      "outputs": [
        {
          "output_type": "execute_result",
          "data": {
            "text/plain": [
              "0    100\n",
              "dtype: int64"
            ]
          },
          "metadata": {},
          "execution_count": 43
        }
      ],
      "source": [
        "# 100 presents more times\n",
        "b.mode()"
      ]
    },
    {
      "cell_type": "code",
      "source": [
        "n = pd.Series(['Mangesh','Roshni','Roshni','Suvarna'])\n",
        "n"
      ],
      "metadata": {
        "colab": {
          "base_uri": "https://localhost:8080/"
        },
        "id": "gPgFDsWZSvGA",
        "outputId": "934cf873-dec0-4d0f-9d69-7e59abb02be3"
      },
      "id": "gPgFDsWZSvGA",
      "execution_count": 44,
      "outputs": [
        {
          "output_type": "execute_result",
          "data": {
            "text/plain": [
              "0    Mangesh\n",
              "1     Roshni\n",
              "2     Roshni\n",
              "3    Suvarna\n",
              "dtype: object"
            ]
          },
          "metadata": {},
          "execution_count": 44
        }
      ]
    },
    {
      "cell_type": "code",
      "source": [
        "n.mode()"
      ],
      "metadata": {
        "colab": {
          "base_uri": "https://localhost:8080/"
        },
        "id": "EEKdQg7SS5cA",
        "outputId": "c5eb5186-4b20-408d-e5db-43dc9d5fc74c"
      },
      "id": "EEKdQg7SS5cA",
      "execution_count": 45,
      "outputs": [
        {
          "output_type": "execute_result",
          "data": {
            "text/plain": [
              "0    Roshni\n",
              "dtype: object"
            ]
          },
          "metadata": {},
          "execution_count": 45
        }
      ]
    },
    {
      "cell_type": "code",
      "source": [
        "# Assignment: Check mode on Hetro. data"
      ],
      "metadata": {
        "id": "YyL1qUZ7S-vD"
      },
      "id": "YyL1qUZ7S-vD",
      "execution_count": null,
      "outputs": []
    },
    {
      "cell_type": "markdown",
      "id": "647bc2c6",
      "metadata": {
        "id": "647bc2c6"
      },
      "source": [
        "### Series Strcuture"
      ]
    },
    {
      "cell_type": "code",
      "execution_count": 46,
      "id": "29e810de",
      "metadata": {
        "colab": {
          "base_uri": "https://localhost:8080/"
        },
        "id": "29e810de",
        "outputId": "e5039e5f-a2c7-4fa3-fcf5-201e2ec61e95"
      },
      "outputs": [
        {
          "output_type": "stream",
          "name": "stdout",
          "text": [
            "['T', '_AXIS_LEN', '_AXIS_NAMES', '_AXIS_NUMBERS', '_AXIS_ORDERS', '_AXIS_TO_AXIS_NUMBER', '_HANDLED_TYPES', '__abs__', '__add__', '__and__', '__annotations__', '__array__', '__array_priority__', '__array_ufunc__', '__array_wrap__', '__bool__', '__class__', '__contains__', '__copy__', '__deepcopy__', '__delattr__', '__delitem__', '__dict__', '__dir__', '__divmod__', '__doc__', '__eq__', '__finalize__', '__float__', '__floordiv__', '__format__', '__ge__', '__getattr__', '__getattribute__', '__getitem__', '__getstate__', '__gt__', '__hash__', '__iadd__', '__iand__', '__ifloordiv__', '__imod__', '__imul__', '__init__', '__init_subclass__', '__int__', '__invert__', '__ior__', '__ipow__', '__isub__', '__iter__', '__itruediv__', '__ixor__', '__le__', '__len__', '__long__', '__lt__', '__matmul__', '__mod__', '__module__', '__mul__', '__ne__', '__neg__', '__new__', '__nonzero__', '__or__', '__pos__', '__pow__', '__radd__', '__rand__', '__rdivmod__', '__reduce__', '__reduce_ex__', '__repr__', '__rfloordiv__', '__rmatmul__', '__rmod__', '__rmul__', '__ror__', '__round__', '__rpow__', '__rsub__', '__rtruediv__', '__rxor__', '__setattr__', '__setitem__', '__setstate__', '__sizeof__', '__str__', '__sub__', '__subclasshook__', '__truediv__', '__weakref__', '__xor__', '_accessors', '_accum_func', '_add_numeric_operations', '_agg_by_level', '_agg_examples_doc', '_agg_see_also_doc', '_align_frame', '_align_series', '_append', '_arith_method', '_as_manager', '_binop', '_can_hold_na', '_check_inplace_and_allows_duplicate_labels', '_check_inplace_setting', '_check_is_chained_assignment_possible', '_check_label_or_level_ambiguity', '_check_setitem_copy', '_clear_item_cache', '_clip_with_one_bound', '_clip_with_scalar', '_cmp_method', '_consolidate', '_consolidate_inplace', '_construct_axes_dict', '_construct_axes_from_arguments', '_construct_result', '_constructor', '_constructor_expanddim', '_convert', '_convert_dtypes', '_data', '_dir_additions', '_dir_deletions', '_drop_axis', '_drop_labels_or_levels', '_duplicated', '_find_valid_index', '_get_axis', '_get_axis_name', '_get_axis_number', '_get_axis_resolvers', '_get_block_manager_axis', '_get_bool_data', '_get_cacher', '_get_cleaned_column_resolvers', '_get_index_resolvers', '_get_label_or_level_values', '_get_numeric_data', '_get_value', '_get_values', '_get_values_tuple', '_get_with', '_gotitem', '_hidden_attrs', '_indexed_same', '_info_axis', '_info_axis_name', '_info_axis_number', '_init_dict', '_init_mgr', '_inplace_method', '_internal_names', '_internal_names_set', '_is_cached', '_is_copy', '_is_label_or_level_reference', '_is_label_reference', '_is_level_reference', '_is_mixed_type', '_is_view', '_ixs', '_logical_func', '_logical_method', '_map_values', '_maybe_update_cacher', '_memory_usage', '_metadata', '_min_count_stat_function', '_needs_reindex_multi', '_protect_consolidate', '_reduce', '_reindex_axes', '_reindex_indexer', '_reindex_multi', '_reindex_with_indexers', '_rename', '_replace_single', '_repr_data_resource_', '_repr_latex_', '_reset_cache', '_reset_cacher', '_set_as_cached', '_set_axis', '_set_axis_name', '_set_axis_nocheck', '_set_is_copy', '_set_labels', '_set_name', '_set_value', '_set_values', '_set_with', '_set_with_engine', '_slice', '_stat_axis', '_stat_axis_name', '_stat_axis_number', '_stat_function', '_stat_function_ddof', '_take', '_take_with_is_copy', '_typ', '_update_inplace', '_validate_dtype', '_values', '_where', 'abs', 'add', 'add_prefix', 'add_suffix', 'agg', 'aggregate', 'align', 'all', 'any', 'append', 'apply', 'argmax', 'argmin', 'argsort', 'array', 'asfreq', 'asof', 'astype', 'at', 'at_time', 'attrs', 'autocorr', 'axes', 'backfill', 'between', 'between_time', 'bfill', 'bool', 'cat', 'clip', 'combine', 'combine_first', 'compare', 'convert_dtypes', 'copy', 'corr', 'count', 'cov', 'cummax', 'cummin', 'cumprod', 'cumsum', 'describe', 'diff', 'div', 'divide', 'divmod', 'dot', 'drop', 'drop_duplicates', 'droplevel', 'dropna', 'dt', 'dtype', 'dtypes', 'duplicated', 'empty', 'eq', 'equals', 'ewm', 'expanding', 'explode', 'factorize', 'ffill', 'fillna', 'filter', 'first', 'first_valid_index', 'flags', 'floordiv', 'ge', 'get', 'groupby', 'gt', 'hasnans', 'head', 'hist', 'iat', 'idxmax', 'idxmin', 'iloc', 'index', 'infer_objects', 'info', 'interpolate', 'is_monotonic', 'is_monotonic_decreasing', 'is_monotonic_increasing', 'is_unique', 'isin', 'isna', 'isnull', 'item', 'items', 'iteritems', 'keys', 'kurt', 'kurtosis', 'last', 'last_valid_index', 'le', 'loc', 'lt', 'mad', 'map', 'mask', 'max', 'mean', 'median', 'memory_usage', 'min', 'mod', 'mode', 'mul', 'multiply', 'name', 'nbytes', 'ndim', 'ne', 'nlargest', 'notna', 'notnull', 'nsmallest', 'nunique', 'pad', 'pct_change', 'pipe', 'plot', 'pop', 'pow', 'prod', 'product', 'quantile', 'radd', 'rank', 'ravel', 'rdiv', 'rdivmod', 'reindex', 'reindex_like', 'rename', 'rename_axis', 'reorder_levels', 'repeat', 'replace', 'resample', 'reset_index', 'rfloordiv', 'rmod', 'rmul', 'rolling', 'round', 'rpow', 'rsub', 'rtruediv', 'sample', 'searchsorted', 'sem', 'set_axis', 'set_flags', 'shape', 'shift', 'size', 'skew', 'slice_shift', 'sort_index', 'sort_values', 'sparse', 'squeeze', 'std', 'str', 'sub', 'subtract', 'sum', 'swapaxes', 'swaplevel', 'tail', 'take', 'to_clipboard', 'to_csv', 'to_dict', 'to_excel', 'to_frame', 'to_hdf', 'to_json', 'to_latex', 'to_list', 'to_markdown', 'to_numpy', 'to_period', 'to_pickle', 'to_sql', 'to_string', 'to_timestamp', 'to_xarray', 'tolist', 'transform', 'transpose', 'truediv', 'truncate', 'tshift', 'tz_convert', 'tz_localize', 'unique', 'unstack', 'update', 'value_counts', 'values', 'var', 'view', 'where', 'xs']\n"
          ]
        }
      ],
      "source": [
        "print(dir(pd.Series))"
      ]
    },
    {
      "cell_type": "markdown",
      "id": "9f9c34bc",
      "metadata": {
        "id": "9f9c34bc"
      },
      "source": [
        "## Difference between method and properties"
      ]
    },
    {
      "cell_type": "code",
      "execution_count": 47,
      "id": "3a50f5a8",
      "metadata": {
        "colab": {
          "base_uri": "https://localhost:8080/"
        },
        "id": "3a50f5a8",
        "outputId": "c6f04838-5f3f-4fc2-8d3c-8ad85ed0e9ba"
      },
      "outputs": [
        {
          "output_type": "execute_result",
          "data": {
            "text/plain": [
              "array([ 120,    1, 9000,   22,   18])"
            ]
          },
          "metadata": {},
          "execution_count": 47
        }
      ],
      "source": [
        "# for properties we need not to call it: means no need of ()\n",
        "a.values"
      ]
    },
    {
      "cell_type": "code",
      "execution_count": 48,
      "id": "05bae86e",
      "metadata": {
        "colab": {
          "base_uri": "https://localhost:8080/"
        },
        "id": "05bae86e",
        "outputId": "12969a7e-1892-4df9-d6f8-c58de6c6440c"
      },
      "outputs": [
        {
          "output_type": "execute_result",
          "data": {
            "text/plain": [
              "<bound method NDFrame._add_numeric_operations.<locals>.max of 0     120\n",
              "1       1\n",
              "2    9000\n",
              "3      22\n",
              "4      18\n",
              "dtype: int64>"
            ]
          },
          "metadata": {},
          "execution_count": 48
        }
      ],
      "source": [
        "# for methods we need to call : means use ()\n",
        "a.max"
      ]
    },
    {
      "cell_type": "code",
      "execution_count": 49,
      "id": "f7f51f1c",
      "metadata": {
        "colab": {
          "base_uri": "https://localhost:8080/"
        },
        "id": "f7f51f1c",
        "outputId": "703ae1ff-614b-4586-996a-c7f0a89e517c"
      },
      "outputs": [
        {
          "output_type": "execute_result",
          "data": {
            "text/plain": [
              "9000"
            ]
          },
          "metadata": {},
          "execution_count": 49
        }
      ],
      "source": [
        "# if we get bound method in output then u must have to call it\n",
        "a.max()"
      ]
    },
    {
      "cell_type": "code",
      "source": [
        "type(a)"
      ],
      "metadata": {
        "colab": {
          "base_uri": "https://localhost:8080/"
        },
        "id": "bq15t4B5NoBA",
        "outputId": "de7df381-acf7-483d-df12-485d9bea674b"
      },
      "id": "bq15t4B5NoBA",
      "execution_count": 50,
      "outputs": [
        {
          "output_type": "execute_result",
          "data": {
            "text/plain": [
              "pandas.core.series.Series"
            ]
          },
          "metadata": {},
          "execution_count": 50
        }
      ]
    },
    {
      "cell_type": "code",
      "execution_count": 51,
      "id": "fe535f8e",
      "metadata": {
        "colab": {
          "base_uri": "https://localhost:8080/"
        },
        "id": "fe535f8e",
        "outputId": "671a3b5c-7fbb-4da7-948d-4f6695ecab5f"
      },
      "outputs": [
        {
          "output_type": "execute_result",
          "data": {
            "text/plain": [
              "0    Mangesh\n",
              "1     Roshni\n",
              "2     Roshni\n",
              "3    Suvarna\n",
              "dtype: object"
            ]
          },
          "metadata": {},
          "execution_count": 51
        }
      ],
      "source": [
        "#check freuqnecy count of each unique category\n",
        "n"
      ]
    },
    {
      "cell_type": "code",
      "source": [
        "# when we want categorywise count then use value_counts()\n",
        "n.value_counts()"
      ],
      "metadata": {
        "colab": {
          "base_uri": "https://localhost:8080/"
        },
        "id": "z_LpCRjcUUau",
        "outputId": "009eeb29-345c-447a-c0d7-9bb60a2184e6"
      },
      "id": "z_LpCRjcUUau",
      "execution_count": 52,
      "outputs": [
        {
          "output_type": "execute_result",
          "data": {
            "text/plain": [
              "Roshni     2\n",
              "Mangesh    1\n",
              "Suvarna    1\n",
              "dtype: int64"
            ]
          },
          "metadata": {},
          "execution_count": 52
        }
      ]
    },
    {
      "cell_type": "code",
      "source": [
        "# check unique records\n",
        "n.unique()"
      ],
      "metadata": {
        "colab": {
          "base_uri": "https://localhost:8080/"
        },
        "id": "pgYEfpfaUmKP",
        "outputId": "fad3d2f8-0fe0-4947-e3e0-b45fb03a28b3"
      },
      "id": "pgYEfpfaUmKP",
      "execution_count": 53,
      "outputs": [
        {
          "output_type": "execute_result",
          "data": {
            "text/plain": [
              "array(['Mangesh', 'Roshni', 'Suvarna'], dtype=object)"
            ]
          },
          "metadata": {},
          "execution_count": 53
        }
      ]
    },
    {
      "cell_type": "code",
      "source": [
        "# count unique records\n",
        "n.nunique()"
      ],
      "metadata": {
        "colab": {
          "base_uri": "https://localhost:8080/"
        },
        "id": "qbYTnFJpUp6C",
        "outputId": "f6721785-e55e-4f6a-d03b-f2272e77ef39"
      },
      "id": "qbYTnFJpUp6C",
      "execution_count": 54,
      "outputs": [
        {
          "output_type": "execute_result",
          "data": {
            "text/plain": [
              "3"
            ]
          },
          "metadata": {},
          "execution_count": 54
        }
      ]
    },
    {
      "cell_type": "markdown",
      "id": "5a74e096",
      "metadata": {
        "id": "5a74e096"
      },
      "source": [
        "### append()\n"
      ]
    },
    {
      "cell_type": "code",
      "execution_count": 55,
      "id": "d18876d6",
      "metadata": {
        "colab": {
          "base_uri": "https://localhost:8080/"
        },
        "id": "d18876d6",
        "outputId": "69e5cdd0-1e3f-4a48-9031-3595eda6179a"
      },
      "outputs": [
        {
          "output_type": "execute_result",
          "data": {
            "text/plain": [
              "(0     120\n",
              " 1       1\n",
              " 2    9000\n",
              " 3      22\n",
              " 4      18\n",
              " dtype: int64,\n",
              " 0        10\n",
              " 1     23.44\n",
              " 2    python\n",
              " 3     56000\n",
              " dtype: object)"
            ]
          },
          "metadata": {},
          "execution_count": 55
        }
      ],
      "source": [
        "a,s"
      ]
    },
    {
      "cell_type": "code",
      "execution_count": 56,
      "id": "cef67476",
      "metadata": {
        "colab": {
          "base_uri": "https://localhost:8080/"
        },
        "id": "cef67476",
        "outputId": "52770b13-ccc4-476a-888a-26923e1c0064"
      },
      "outputs": [
        {
          "output_type": "stream",
          "name": "stderr",
          "text": [
            "<ipython-input-56-3bc00a1a6bbc>:2: FutureWarning: The series.append method is deprecated and will be removed from pandas in a future version. Use pandas.concat instead.\n",
            "  a.append(s)\n"
          ]
        },
        {
          "output_type": "execute_result",
          "data": {
            "text/plain": [
              "0       120\n",
              "1         1\n",
              "2      9000\n",
              "3        22\n",
              "4        18\n",
              "0        10\n",
              "1     23.44\n",
              "2    python\n",
              "3     56000\n",
              "dtype: object"
            ]
          },
          "metadata": {},
          "execution_count": 56
        }
      ],
      "source": [
        "# Concatenate two or more Series.\n",
        "a.append(s)"
      ]
    },
    {
      "cell_type": "code",
      "execution_count": 57,
      "id": "0b0485da",
      "metadata": {
        "colab": {
          "base_uri": "https://localhost:8080/"
        },
        "id": "0b0485da",
        "outputId": "774d8d42-fd9e-4e28-ba19-ac7bca5af45a"
      },
      "outputs": [
        {
          "output_type": "stream",
          "name": "stderr",
          "text": [
            "<ipython-input-57-b5e45740bce0>:2: FutureWarning: The series.append method is deprecated and will be removed from pandas in a future version. Use pandas.concat instead.\n",
            "  a.append(s,ignore_index=True)\n"
          ]
        },
        {
          "output_type": "execute_result",
          "data": {
            "text/plain": [
              "0       120\n",
              "1         1\n",
              "2      9000\n",
              "3        22\n",
              "4        18\n",
              "5        10\n",
              "6     23.44\n",
              "7    python\n",
              "8     56000\n",
              "dtype: object"
            ]
          },
          "metadata": {},
          "execution_count": 57
        }
      ],
      "source": [
        "# problem with index can be solved using ignore_index\n",
        "a.append(s,ignore_index=True)"
      ]
    },
    {
      "cell_type": "code",
      "execution_count": 58,
      "id": "7189e7ec",
      "metadata": {
        "colab": {
          "base_uri": "https://localhost:8080/"
        },
        "id": "7189e7ec",
        "outputId": "8b7d4814-e1e6-4856-80ba-ed6704187a2a"
      },
      "outputs": [
        {
          "output_type": "stream",
          "name": "stderr",
          "text": [
            "<ipython-input-58-7c262a970968>:1: FutureWarning: The series.append method is deprecated and will be removed from pandas in a future version. Use pandas.concat instead.\n",
            "  a.append([s,a,s])\n"
          ]
        },
        {
          "output_type": "execute_result",
          "data": {
            "text/plain": [
              "0       120\n",
              "1         1\n",
              "2      9000\n",
              "3        22\n",
              "4        18\n",
              "0        10\n",
              "1     23.44\n",
              "2    python\n",
              "3     56000\n",
              "0       120\n",
              "1         1\n",
              "2      9000\n",
              "3        22\n",
              "4        18\n",
              "0        10\n",
              "1     23.44\n",
              "2    python\n",
              "3     56000\n",
              "dtype: object"
            ]
          },
          "metadata": {},
          "execution_count": 58
        }
      ],
      "source": [
        "a.append([s,a,s])"
      ]
    },
    {
      "cell_type": "markdown",
      "id": "e02510df",
      "metadata": {
        "id": "e02510df"
      },
      "source": [
        "## apply()"
      ]
    },
    {
      "cell_type": "code",
      "execution_count": 59,
      "id": "ea489129",
      "metadata": {
        "colab": {
          "base_uri": "https://localhost:8080/"
        },
        "id": "ea489129",
        "outputId": "8580a8ee-1c2d-4651-f827-db0d52ab720a"
      },
      "outputs": [
        {
          "output_type": "execute_result",
          "data": {
            "text/plain": [
              "0     120\n",
              "1       1\n",
              "2    9000\n",
              "3      22\n",
              "4      18\n",
              "dtype: int64"
            ]
          },
          "metadata": {},
          "execution_count": 59
        }
      ],
      "source": [
        "#s.apply(function)\n",
        "a"
      ]
    },
    {
      "cell_type": "code",
      "execution_count": 60,
      "id": "18c5dff9",
      "metadata": {
        "scrolled": true,
        "colab": {
          "base_uri": "https://localhost:8080/"
        },
        "id": "18c5dff9",
        "outputId": "a1fd8aeb-506a-4611-8dc9-fbd19a8b2ace"
      },
      "outputs": [
        {
          "output_type": "execute_result",
          "data": {
            "text/plain": [
              "0     1120\n",
              "1     1001\n",
              "2    10000\n",
              "3     1022\n",
              "4     1018\n",
              "dtype: int64"
            ]
          },
          "metadata": {},
          "execution_count": 60
        }
      ],
      "source": [
        "# add 1000 in each num from a Series\n",
        "a.apply(lambda num:num+1000)"
      ]
    },
    {
      "cell_type": "code",
      "execution_count": 61,
      "id": "c204cee3",
      "metadata": {
        "colab": {
          "base_uri": "https://localhost:8080/"
        },
        "id": "c204cee3",
        "outputId": "4e4c8a54-bac3-481b-91be-3215cc558558"
      },
      "outputs": [
        {
          "output_type": "execute_result",
          "data": {
            "text/plain": [
              "0     1120\n",
              "1     1001\n",
              "2    10000\n",
              "3     1022\n",
              "4     1018\n",
              "dtype: int64"
            ]
          },
          "metadata": {},
          "execution_count": 61
        }
      ],
      "source": [
        "a+1000"
      ]
    },
    {
      "cell_type": "code",
      "execution_count": 62,
      "id": "56ac3f34",
      "metadata": {
        "colab": {
          "base_uri": "https://localhost:8080/"
        },
        "id": "56ac3f34",
        "outputId": "f4a0ab7b-ee40-40ae-cb67-cbf19a8e4676"
      },
      "outputs": [
        {
          "output_type": "execute_result",
          "data": {
            "text/plain": [
              "0       14400\n",
              "1           1\n",
              "2    81000000\n",
              "3         484\n",
              "4         324\n",
              "dtype: int64"
            ]
          },
          "metadata": {},
          "execution_count": 62
        }
      ],
      "source": [
        "def square(num):\n",
        "    return num**2\n",
        "\n",
        "a.apply(square)"
      ]
    },
    {
      "cell_type": "code",
      "source": [
        "a # changes are temp."
      ],
      "metadata": {
        "id": "CPtaoJ0qWRep"
      },
      "id": "CPtaoJ0qWRep",
      "execution_count": null,
      "outputs": []
    },
    {
      "cell_type": "code",
      "execution_count": 63,
      "id": "529fa108",
      "metadata": {
        "colab": {
          "base_uri": "https://localhost:8080/"
        },
        "id": "529fa108",
        "outputId": "cb592c32-7250-4bee-e2da-0aa26d0ea729"
      },
      "outputs": [
        {
          "output_type": "execute_result",
          "data": {
            "text/plain": [
              "0    Mangesh\n",
              "1     Roshni\n",
              "2     Roshni\n",
              "3    Suvarna\n",
              "dtype: object"
            ]
          },
          "metadata": {},
          "execution_count": 63
        }
      ],
      "source": [
        "n"
      ]
    },
    {
      "cell_type": "code",
      "execution_count": 64,
      "id": "038351a3",
      "metadata": {
        "colab": {
          "base_uri": "https://localhost:8080/"
        },
        "id": "038351a3",
        "outputId": "94276f58-6841-44a8-f980-64693ab00b6f"
      },
      "outputs": [
        {
          "output_type": "execute_result",
          "data": {
            "text/plain": [
              "0    MANGESH\n",
              "1     ROSHNI\n",
              "2     ROSHNI\n",
              "3    SUVARNA\n",
              "dtype: object"
            ]
          },
          "metadata": {},
          "execution_count": 64
        }
      ],
      "source": [
        "# convert names to upper case\n",
        "n.apply(lambda name:name.upper())"
      ]
    },
    {
      "cell_type": "code",
      "execution_count": null,
      "id": "6d3ad4ee",
      "metadata": {
        "id": "6d3ad4ee"
      },
      "outputs": [],
      "source": [
        "# convert name into its len\n",
        "n.apply(lambda name:len(name))"
      ]
    },
    {
      "cell_type": "code",
      "execution_count": null,
      "id": "fdf58945",
      "metadata": {
        "id": "fdf58945"
      },
      "outputs": [],
      "source": [
        "n.apply(len)"
      ]
    },
    {
      "cell_type": "code",
      "execution_count": null,
      "id": "2fa9cf14",
      "metadata": {
        "id": "2fa9cf14"
      },
      "outputs": [],
      "source": [
        "log = pd.Series(['1234-bar234-234234','4545-nmg43345-535545'])\n",
        "log"
      ]
    },
    {
      "cell_type": "code",
      "execution_count": null,
      "id": "2807c71d",
      "metadata": {
        "id": "2807c71d"
      },
      "outputs": [],
      "source": [
        "log.apply(lambda num:num.split('-'))"
      ]
    },
    {
      "cell_type": "code",
      "execution_count": null,
      "id": "6198da28",
      "metadata": {
        "id": "6198da28"
      },
      "outputs": [],
      "source": [
        "log.apply(lambda num:num.split('-')[-1])"
      ]
    },
    {
      "cell_type": "code",
      "execution_count": null,
      "id": "1886e79d",
      "metadata": {
        "id": "1886e79d"
      },
      "outputs": [],
      "source": [
        "v = pd.Series(['Narayan Rane','Ajit Pawar'])\n",
        "v"
      ]
    },
    {
      "cell_type": "code",
      "execution_count": null,
      "id": "55846127",
      "metadata": {
        "id": "55846127"
      },
      "outputs": [],
      "source": [
        "v.apply(lambda nm:nm.split())"
      ]
    },
    {
      "cell_type": "code",
      "execution_count": null,
      "id": "ba04d9b6",
      "metadata": {
        "id": "ba04d9b6"
      },
      "outputs": [],
      "source": [
        "#fetch first  name\n",
        "v.apply(lambda nm:nm.split()[0])"
      ]
    },
    {
      "cell_type": "code",
      "execution_count": null,
      "id": "5891b3a4",
      "metadata": {
        "id": "5891b3a4"
      },
      "outputs": [],
      "source": [
        "pin = pd.Series(['Ap.Satara Karad 542451','Pune Katraj 234567'])\n",
        "pin"
      ]
    },
    {
      "cell_type": "code",
      "execution_count": null,
      "id": "0d0f2103",
      "metadata": {
        "id": "0d0f2103"
      },
      "outputs": [],
      "source": [
        "'Pune Katraj 234567'.find('pune') #-1 means missing/absent"
      ]
    },
    {
      "cell_type": "code",
      "execution_count": null,
      "id": "fb7e7a82",
      "metadata": {
        "id": "fb7e7a82"
      },
      "outputs": [],
      "source": [
        "#fetch pincode\n",
        "#pin.apply(lambda p: p.find('Pune'))\n",
        "pin.apply(lambda data: data.split()[-1])"
      ]
    },
    {
      "cell_type": "code",
      "execution_count": null,
      "id": "2f6c52e5",
      "metadata": {
        "id": "2f6c52e5"
      },
      "outputs": [],
      "source": [
        "# using normal function\n",
        "def find(p):\n",
        "    return p[-6:]\n",
        "pin.apply(find)"
      ]
    },
    {
      "cell_type": "code",
      "source": [
        "p = pd.Series(['Mr. Anil','Mr. Uddhav','Mrs. Rashmi','Mr. Aditya'])\n",
        "p"
      ],
      "metadata": {
        "colab": {
          "base_uri": "https://localhost:8080/"
        },
        "id": "lo-ydM1JPs9V",
        "outputId": "aaab697b-f54c-4a4b-e624-28fa0f63ad2f"
      },
      "id": "lo-ydM1JPs9V",
      "execution_count": 65,
      "outputs": [
        {
          "output_type": "execute_result",
          "data": {
            "text/plain": [
              "0       Mr. Anil\n",
              "1     Mr. Uddhav\n",
              "2    Mrs. Rashmi\n",
              "3     Mr. Aditya\n",
              "dtype: object"
            ]
          },
          "metadata": {},
          "execution_count": 65
        }
      ]
    },
    {
      "cell_type": "code",
      "source": [
        "p.apply(lambda data:data.split('.')[0])"
      ],
      "metadata": {
        "colab": {
          "base_uri": "https://localhost:8080/"
        },
        "id": "qZI5SBxdP2_7",
        "outputId": "b2165db1-f465-43d6-ee03-ec0565d222bc"
      },
      "id": "qZI5SBxdP2_7",
      "execution_count": 67,
      "outputs": [
        {
          "output_type": "execute_result",
          "data": {
            "text/plain": [
              "0     Mr\n",
              "1     Mr\n",
              "2    Mrs\n",
              "3     Mr\n",
              "dtype: object"
            ]
          },
          "metadata": {},
          "execution_count": 67
        }
      ]
    },
    {
      "cell_type": "markdown",
      "id": "ece54fc6",
      "metadata": {
        "id": "ece54fc6"
      },
      "source": [
        "## astype(): for typecasting"
      ]
    },
    {
      "cell_type": "code",
      "execution_count": 68,
      "id": "6d4cf043",
      "metadata": {
        "id": "6d4cf043",
        "colab": {
          "base_uri": "https://localhost:8080/"
        },
        "outputId": "e76e71b7-8d5e-430d-cd32-1035fa2e3f8c"
      },
      "outputs": [
        {
          "output_type": "execute_result",
          "data": {
            "text/plain": [
              "0      20\n",
              "1    3400\n",
              "2     506\n",
              "3       1\n",
              "4      23\n",
              "5      30\n",
              "dtype: int64"
            ]
          },
          "metadata": {},
          "execution_count": 68
        }
      ],
      "source": [
        "import pandas as pd\n",
        "#pd.Series(data,index,dtype)\n",
        "a = pd.Series([20,3400,506,1,23,30])\n",
        "a"
      ]
    },
    {
      "cell_type": "code",
      "execution_count": 69,
      "id": "e9205c01",
      "metadata": {
        "id": "e9205c01",
        "colab": {
          "base_uri": "https://localhost:8080/"
        },
        "outputId": "8ffecb27-1307-4ad3-8dbc-1f37dabe87f7"
      },
      "outputs": [
        {
          "output_type": "execute_result",
          "data": {
            "text/plain": [
              "0      20.0\n",
              "1    3400.0\n",
              "2     506.0\n",
              "3       1.0\n",
              "4      23.0\n",
              "5      30.0\n",
              "dtype: float64"
            ]
          },
          "metadata": {},
          "execution_count": 69
        }
      ],
      "source": [
        "#change data type of Series 'a'\n",
        "a.astype('float')"
      ]
    },
    {
      "cell_type": "code",
      "execution_count": 70,
      "id": "57e1176b",
      "metadata": {
        "id": "57e1176b",
        "colab": {
          "base_uri": "https://localhost:8080/"
        },
        "outputId": "df7d495a-6098-4993-a14f-861fa74cffc2"
      },
      "outputs": [
        {
          "output_type": "execute_result",
          "data": {
            "text/plain": [
              "0    10\n",
              "1    20\n",
              "2    30\n",
              "dtype: object"
            ]
          },
          "metadata": {},
          "execution_count": 70
        }
      ],
      "source": [
        "r = pd.Series(['10','20','30'])\n",
        "r"
      ]
    },
    {
      "cell_type": "code",
      "execution_count": 72,
      "id": "d8bab375",
      "metadata": {
        "id": "d8bab375",
        "colab": {
          "base_uri": "https://localhost:8080/"
        },
        "outputId": "daf07fa7-19cf-4388-94dc-93365aadc96a"
      },
      "outputs": [
        {
          "output_type": "execute_result",
          "data": {
            "text/plain": [
              "34010.0"
            ]
          },
          "metadata": {},
          "execution_count": 72
        }
      ],
      "source": [
        "r.mean()"
      ]
    },
    {
      "cell_type": "code",
      "execution_count": 73,
      "id": "a66ce4c7",
      "metadata": {
        "id": "a66ce4c7",
        "colab": {
          "base_uri": "https://localhost:8080/"
        },
        "outputId": "88186ef1-2048-4d5b-9c92-1b0ba0b46a40"
      },
      "outputs": [
        {
          "output_type": "execute_result",
          "data": {
            "text/plain": [
              "60"
            ]
          },
          "metadata": {},
          "execution_count": 73
        }
      ],
      "source": [
        "# in above case there is a problem in answer\n",
        "# hence we need conversion to int\n",
        "# so astype will convert from object  to int\n",
        "r.astype('int').sum()"
      ]
    },
    {
      "cell_type": "code",
      "execution_count": 74,
      "id": "f3660f11",
      "metadata": {
        "id": "f3660f11",
        "colab": {
          "base_uri": "https://localhost:8080/"
        },
        "outputId": "8acae71c-6694-47d9-a792-f3bf1b222a64"
      },
      "outputs": [
        {
          "output_type": "execute_result",
          "data": {
            "text/plain": [
              "0    10\n",
              "1    20\n",
              "2    30\n",
              "dtype: int64"
            ]
          },
          "metadata": {},
          "execution_count": 74
        }
      ],
      "source": [
        "r.astype(int) # temp"
      ]
    },
    {
      "cell_type": "code",
      "execution_count": 75,
      "id": "7ec99493",
      "metadata": {
        "id": "7ec99493",
        "colab": {
          "base_uri": "https://localhost:8080/"
        },
        "outputId": "f09b6dc9-07de-4899-e742-0809cef5e2d2"
      },
      "outputs": [
        {
          "output_type": "execute_result",
          "data": {
            "text/plain": [
              "0    10\n",
              "1    20\n",
              "2    30\n",
              "dtype: object"
            ]
          },
          "metadata": {},
          "execution_count": 75
        }
      ],
      "source": [
        "r"
      ]
    },
    {
      "cell_type": "raw",
      "id": "a459c54c",
      "metadata": {
        "id": "a459c54c"
      },
      "source": [
        "# Q. what is astype? What is the purpose\n",
        "\n",
        "---\n",
        "\n",
        "\n",
        "# Q. when to use astype\n",
        "# Q. if we want to change/convert a data type of a Series"
      ]
    },
    {
      "cell_type": "code",
      "execution_count": 82,
      "id": "b2d84729",
      "metadata": {
        "id": "b2d84729",
        "colab": {
          "base_uri": "https://localhost:8080/"
        },
        "outputId": "36fc9fe1-d966-410f-c98e-cdfb901d017a"
      },
      "outputs": [
        {
          "output_type": "execute_result",
          "data": {
            "text/plain": [
              "0    10.0\n",
              "1    30.0\n",
              "2    40.0\n",
              "dtype: float64"
            ]
          },
          "metadata": {},
          "execution_count": 82
        }
      ],
      "source": [
        "data = ['10','30','40']\n",
        "\n",
        "pd.Series(data,dtype=float)"
      ]
    },
    {
      "cell_type": "code",
      "execution_count": 83,
      "id": "d6e656a8",
      "metadata": {
        "id": "d6e656a8",
        "colab": {
          "base_uri": "https://localhost:8080/"
        },
        "outputId": "cf65287a-5ae9-4b38-fd67-f0d444a29fe5"
      },
      "outputs": [
        {
          "output_type": "execute_result",
          "data": {
            "text/plain": [
              "0    2.0\n",
              "1    4.0\n",
              "2    5.0\n",
              "dtype: float64"
            ]
          },
          "metadata": {},
          "execution_count": 83
        }
      ],
      "source": [
        "data = [2.,4.,5.]\n",
        "p = pd.Series(data)\n",
        "p"
      ]
    },
    {
      "cell_type": "code",
      "source": [
        "p.astype('int')"
      ],
      "metadata": {
        "colab": {
          "base_uri": "https://localhost:8080/"
        },
        "id": "nbhhUSBwVUSH",
        "outputId": "37fe8c62-aca0-4f87-b181-48f9e784b31e"
      },
      "id": "nbhhUSBwVUSH",
      "execution_count": 85,
      "outputs": [
        {
          "output_type": "execute_result",
          "data": {
            "text/plain": [
              "0    2\n",
              "1    4\n",
              "2    5\n",
              "dtype: int64"
            ]
          },
          "metadata": {},
          "execution_count": 85
        }
      ]
    },
    {
      "cell_type": "markdown",
      "id": "4fd51ad8",
      "metadata": {
        "id": "4fd51ad8"
      },
      "source": [
        "### describe()"
      ]
    },
    {
      "cell_type": "code",
      "execution_count": null,
      "id": "3c10bb31",
      "metadata": {
        "id": "3c10bb31"
      },
      "outputs": [],
      "source": [
        "a = pd.Series([20,3400,506,1,23,30])\n",
        "a"
      ]
    },
    {
      "cell_type": "code",
      "execution_count": null,
      "id": "6ed63380",
      "metadata": {
        "scrolled": true,
        "id": "6ed63380"
      },
      "outputs": [],
      "source": [
        "# Generate descriptive statistics.\n",
        "# returns statistical information\n",
        "a.describe()"
      ]
    },
    {
      "cell_type": "code",
      "execution_count": null,
      "id": "ebe2cb59",
      "metadata": {
        "scrolled": true,
        "id": "ebe2cb59"
      },
      "outputs": [],
      "source": [
        "# describe works on numeric data default\n",
        "nm = pd.Series(['amit','amol','akshay','amol','amol'])\n",
        "nm"
      ]
    },
    {
      "cell_type": "code",
      "execution_count": null,
      "id": "6c484959",
      "metadata": {
        "id": "6c484959"
      },
      "outputs": [],
      "source": [
        "set(nm)"
      ]
    },
    {
      "cell_type": "code",
      "execution_count": null,
      "id": "4c396da7",
      "metadata": {
        "id": "4c396da7"
      },
      "outputs": [],
      "source": [
        "nm.describe()"
      ]
    },
    {
      "cell_type": "markdown",
      "id": "1ddf0d5f",
      "metadata": {
        "id": "1ddf0d5f"
      },
      "source": [
        "## diff()"
      ]
    },
    {
      "cell_type": "code",
      "execution_count": null,
      "id": "e008fef9",
      "metadata": {
        "scrolled": true,
        "id": "e008fef9"
      },
      "outputs": [],
      "source": [
        "a"
      ]
    },
    {
      "cell_type": "code",
      "execution_count": null,
      "id": "724872ae",
      "metadata": {
        "id": "724872ae"
      },
      "outputs": [],
      "source": [
        "506 - 3400"
      ]
    },
    {
      "cell_type": "code",
      "execution_count": null,
      "id": "10576fa5",
      "metadata": {
        "id": "10576fa5"
      },
      "outputs": [],
      "source": [
        "a.diff()\n",
        "# calculates difference between consecutive numbers (next_num - prev_num)"
      ]
    },
    {
      "cell_type": "code",
      "execution_count": null,
      "id": "22c6961f",
      "metadata": {
        "id": "22c6961f"
      },
      "outputs": [],
      "source": [
        "d = pd.Series([7,7,7,5,5,5,5,5,5])\n",
        "d"
      ]
    },
    {
      "cell_type": "code",
      "execution_count": null,
      "id": "7b5ec4fa",
      "metadata": {
        "id": "7b5ec4fa"
      },
      "outputs": [],
      "source": [
        "d.diff()"
      ]
    },
    {
      "cell_type": "markdown",
      "id": "e6f27f39",
      "metadata": {
        "id": "e6f27f39"
      },
      "source": [
        "# work on index"
      ]
    },
    {
      "cell_type": "code",
      "execution_count": null,
      "id": "352f8f79",
      "metadata": {
        "id": "352f8f79"
      },
      "outputs": [],
      "source": [
        "# At the time of creation\n",
        "pd.Series([10,20,30,40,50])\n",
        "# default index starts from 0 and stop at n-1"
      ]
    },
    {
      "cell_type": "code",
      "execution_count": null,
      "id": "28e1d4cc",
      "metadata": {
        "id": "28e1d4cc"
      },
      "outputs": [],
      "source": [
        "# pd.Series(data,index,dtype)\n",
        "pd.Series([10,20,30,40,50],['A','B','C','D','E'])"
      ]
    },
    {
      "cell_type": "code",
      "execution_count": null,
      "id": "03d3b035",
      "metadata": {
        "id": "03d3b035"
      },
      "outputs": [],
      "source": [
        "#change sequence\n",
        "pd.Series(['A','B','C','D','E'],[10,20,30,40,50])"
      ]
    },
    {
      "cell_type": "code",
      "source": [
        "#change sequence\n",
        "pd.Series(index=['A','B','C','D','E'],data=[10,20,30,40,50])"
      ],
      "metadata": {
        "id": "GuUngV24Zcqc"
      },
      "id": "GuUngV24Zcqc",
      "execution_count": null,
      "outputs": []
    },
    {
      "cell_type": "code",
      "execution_count": null,
      "id": "63b6f191",
      "metadata": {
        "id": "63b6f191"
      },
      "outputs": [],
      "source": [
        "dt,index = [10,20,30,40,50],['A','B','C','D','E']\n",
        "pd.Series(dt,index)"
      ]
    },
    {
      "cell_type": "code",
      "execution_count": null,
      "id": "a765dddd",
      "metadata": {
        "id": "a765dddd"
      },
      "outputs": [],
      "source": [
        "pd.Series(dt,range(101,106))"
      ]
    },
    {
      "cell_type": "code",
      "execution_count": null,
      "id": "bc67f5ee",
      "metadata": {
        "id": "bc67f5ee"
      },
      "outputs": [],
      "source": [
        "import numpy as np\n",
        "y = pd.Series(dt,np.arange(21,26))\n",
        "y"
      ]
    },
    {
      "cell_type": "markdown",
      "id": "22c83102",
      "metadata": {
        "id": "22c83102"
      },
      "source": [
        "# if we want to change an index of already created Series"
      ]
    },
    {
      "cell_type": "code",
      "execution_count": null,
      "id": "5d9bf5ff",
      "metadata": {
        "scrolled": true,
        "id": "5d9bf5ff"
      },
      "outputs": [],
      "source": [
        "y"
      ]
    },
    {
      "cell_type": "code",
      "execution_count": null,
      "id": "75f18e68",
      "metadata": {
        "id": "75f18e68"
      },
      "outputs": [],
      "source": [
        "y.reset_index()"
      ]
    },
    {
      "cell_type": "code",
      "execution_count": null,
      "id": "9e354691",
      "metadata": {
        "id": "9e354691"
      },
      "outputs": [],
      "source": [
        "y.reset_index(drop=True)\n",
        "# drop =  True means it will drop index column generated and returns Series"
      ]
    },
    {
      "cell_type": "code",
      "execution_count": null,
      "id": "2e4cac1c",
      "metadata": {
        "id": "2e4cac1c"
      },
      "outputs": [],
      "source": [
        "y"
      ]
    },
    {
      "cell_type": "code",
      "source": [],
      "metadata": {
        "id": "zaD62rSnagEr"
      },
      "id": "zaD62rSnagEr",
      "execution_count": null,
      "outputs": []
    }
  ],
  "metadata": {
    "kernelspec": {
      "display_name": "Python 3 (ipykernel)",
      "language": "python",
      "name": "python3"
    },
    "language_info": {
      "codemirror_mode": {
        "name": "ipython",
        "version": 3
      },
      "file_extension": ".py",
      "mimetype": "text/x-python",
      "name": "python",
      "nbconvert_exporter": "python",
      "pygments_lexer": "ipython3",
      "version": "3.9.7"
    },
    "colab": {
      "provenance": []
    }
  },
  "nbformat": 4,
  "nbformat_minor": 5
}